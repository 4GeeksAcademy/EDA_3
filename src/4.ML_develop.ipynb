{
 "cells": [
  {
   "cell_type": "markdown",
   "metadata": {},
   "source": [
    "## 4. Machine Learning Development"
   ]
  },
  {
   "cell_type": "markdown",
   "metadata": {},
   "source": [
    "Importamos los .csv extraídos de los procesos anteriores para poner a trabajar al modelo."
   ]
  },
  {
   "cell_type": "code",
   "execution_count": 2,
   "metadata": {},
   "outputs": [],
   "source": [
    "import pandas as pd"
   ]
  },
  {
   "cell_type": "code",
   "execution_count": 3,
   "metadata": {},
   "outputs": [],
   "source": [
    "\n",
    "y_train = pd.read_csv('/workspaces/EDA_3/data/processed/medical_insurance_y_train.csv')\n",
    "y_test = pd.read_csv('/workspaces/EDA_3/data/processed/medical_insurance_y_test.csv')\n",
    "\n",
    "X_train_norm = pd.read_csv('/workspaces/EDA_3/data/interim/medical_insurance_X_train_std.csv')\n",
    "X_test_norm = pd.read_csv('/workspaces/EDA_3/data/interim/medical_insurance_X_test_std.csv')"
   ]
  },
  {
   "cell_type": "code",
   "execution_count": 4,
   "metadata": {},
   "outputs": [],
   "source": [
    "from sklearn.feature_selection import f_regression, SelectKBest"
   ]
  },
  {
   "cell_type": "code",
   "execution_count": 5,
   "metadata": {},
   "outputs": [],
   "source": [
    "pred_nums = []\n",
    "for i in range(len(X_train_norm.columns)):\n",
    "    pred_nums.append(i)"
   ]
  },
  {
   "cell_type": "code",
   "execution_count": 6,
   "metadata": {},
   "outputs": [],
   "source": [
    "# X_train_sel = []\n",
    "# X_test_sel = []\n",
    "# for number in pred_nums:\n",
    "#     selection_model = SelectKBest(f_regression, k = number)\n",
    "#     selection_model.fit(X_train_norm, y_train)\n",
    "#     ix = selection_model.get_support()\n",
    "#     X_train_sel.append(pd.DataFrame(selection_model.transform(X_train_norm), columns = X_train_norm.columns.values[ix]))\n",
    "#     X_test_sel.append(pd.DataFrame(selection_model.transform(X_test_norm), columns = X_test_norm.columns.values[ix]))\n",
    "    # X_train_sel[\"charges\"] = y_train\n",
    "    # X_test_sel[\"charges\"] = y_test    \n",
    "    # train_data = X_train_sel\n",
    "    # test_data = X_test_sel\n",
    "    # X_train = train_data.drop([\"charges\"], axis = 1)\n",
    "    # y_train = train_data[\"charges\"] \n",
    "    # X_test = test_data.drop([\"charges\"], axis = 1)\n",
    "    # y_test = test_data[\"charges\"]\n",
    "    \n",
    "    # from sklearn.linear_model import LinearRegression\n",
    "\n",
    "    # model = LinearRegression()\n",
    "    # model.fit(X_train, y_train)\n",
    "    # y_pred = model.predict(X_test)\n",
    "    # from sklearn.metrics import mean_squared_error, r2_score\n",
    "\n",
    "    # print(f\"Error cuadrático medio: {mean_squared_error(y_test, y_pred)}\")\n",
    "    # print(f\"Coeficiente de determinación: {r2_score(y_test, y_pred)}\")\n",
    "\n"
   ]
  },
  {
   "cell_type": "code",
   "execution_count": 7,
   "metadata": {},
   "outputs": [
    {
     "name": "stderr",
     "output_type": "stream",
     "text": [
      "/home/vscode/.local/lib/python3.11/site-packages/sklearn/utils/validation.py:1183: DataConversionWarning: A column-vector y was passed when a 1d array was expected. Please change the shape of y to (n_samples, ), for example using ravel().\n",
      "  y = column_or_1d(y, warn=True)\n"
     ]
    }
   ],
   "source": [
    "selection_model = SelectKBest(f_regression, k = 5)\n",
    "selection_model.fit(X_train_norm, y_train)\n",
    "ix = selection_model.get_support()\n",
    "X_train_sel = pd.DataFrame(selection_model.transform(X_train_norm), columns = X_train_norm.columns.values[ix])\n",
    "X_test_sel = pd.DataFrame(selection_model.transform(X_test_norm), columns = X_test_norm.columns.values[ix])"
   ]
  },
  {
   "cell_type": "code",
   "execution_count": 8,
   "metadata": {},
   "outputs": [
    {
     "data": {
      "text/html": [
       "<div>\n",
       "<style scoped>\n",
       "    .dataframe tbody tr th:only-of-type {\n",
       "        vertical-align: middle;\n",
       "    }\n",
       "\n",
       "    .dataframe tbody tr th {\n",
       "        vertical-align: top;\n",
       "    }\n",
       "\n",
       "    .dataframe thead th {\n",
       "        text-align: right;\n",
       "    }\n",
       "</style>\n",
       "<table border=\"1\" class=\"dataframe\">\n",
       "  <thead>\n",
       "    <tr style=\"text-align: right;\">\n",
       "      <th></th>\n",
       "      <th>0</th>\n",
       "      <th>1</th>\n",
       "      <th>2</th>\n",
       "      <th>3</th>\n",
       "      <th>4</th>\n",
       "    </tr>\n",
       "  </thead>\n",
       "  <tbody>\n",
       "    <tr>\n",
       "      <th>0</th>\n",
       "      <td>0.976695</td>\n",
       "      <td>-1.000936</td>\n",
       "      <td>0.881367</td>\n",
       "      <td>0.749696</td>\n",
       "      <td>0.494439</td>\n",
       "    </tr>\n",
       "    <tr>\n",
       "      <th>1</th>\n",
       "      <td>-1.516009</td>\n",
       "      <td>-1.000936</td>\n",
       "      <td>-0.543716</td>\n",
       "      <td>1.582777</td>\n",
       "      <td>-2.022493</td>\n",
       "    </tr>\n",
       "    <tr>\n",
       "      <th>2</th>\n",
       "      <td>1.546456</td>\n",
       "      <td>0.999065</td>\n",
       "      <td>0.874754</td>\n",
       "      <td>-0.916468</td>\n",
       "      <td>-2.022493</td>\n",
       "    </tr>\n",
       "    <tr>\n",
       "      <th>3</th>\n",
       "      <td>-0.376487</td>\n",
       "      <td>-1.000936</td>\n",
       "      <td>-1.912589</td>\n",
       "      <td>1.582777</td>\n",
       "      <td>0.494439</td>\n",
       "    </tr>\n",
       "    <tr>\n",
       "      <th>4</th>\n",
       "      <td>0.691814</td>\n",
       "      <td>-1.000936</td>\n",
       "      <td>-0.106437</td>\n",
       "      <td>-0.916468</td>\n",
       "      <td>0.494439</td>\n",
       "    </tr>\n",
       "    <tr>\n",
       "      <th>...</th>\n",
       "      <td>...</td>\n",
       "      <td>...</td>\n",
       "      <td>...</td>\n",
       "      <td>...</td>\n",
       "      <td>...</td>\n",
       "    </tr>\n",
       "    <tr>\n",
       "      <th>1064</th>\n",
       "      <td>-0.732588</td>\n",
       "      <td>-1.000936</td>\n",
       "      <td>1.365763</td>\n",
       "      <td>1.582777</td>\n",
       "      <td>0.494439</td>\n",
       "    </tr>\n",
       "    <tr>\n",
       "      <th>1065</th>\n",
       "      <td>1.688896</td>\n",
       "      <td>0.999065</td>\n",
       "      <td>1.024372</td>\n",
       "      <td>-0.916468</td>\n",
       "      <td>0.494439</td>\n",
       "    </tr>\n",
       "    <tr>\n",
       "      <th>1066</th>\n",
       "      <td>-1.017468</td>\n",
       "      <td>0.999065</td>\n",
       "      <td>-0.798313</td>\n",
       "      <td>-0.916468</td>\n",
       "      <td>0.494439</td>\n",
       "    </tr>\n",
       "    <tr>\n",
       "      <th>1067</th>\n",
       "      <td>0.691814</td>\n",
       "      <td>0.999065</td>\n",
       "      <td>-1.331479</td>\n",
       "      <td>-0.916468</td>\n",
       "      <td>0.494439</td>\n",
       "    </tr>\n",
       "    <tr>\n",
       "      <th>1068</th>\n",
       "      <td>1.760116</td>\n",
       "      <td>0.999065</td>\n",
       "      <td>1.420320</td>\n",
       "      <td>-0.083386</td>\n",
       "      <td>0.494439</td>\n",
       "    </tr>\n",
       "  </tbody>\n",
       "</table>\n",
       "<p>1069 rows × 5 columns</p>\n",
       "</div>"
      ],
      "text/plain": [
       "             0         1         2         3         4\n",
       "0     0.976695 -1.000936  0.881367  0.749696  0.494439\n",
       "1    -1.516009 -1.000936 -0.543716  1.582777 -2.022493\n",
       "2     1.546456  0.999065  0.874754 -0.916468 -2.022493\n",
       "3    -0.376487 -1.000936 -1.912589  1.582777  0.494439\n",
       "4     0.691814 -1.000936 -0.106437 -0.916468  0.494439\n",
       "...        ...       ...       ...       ...       ...\n",
       "1064 -0.732588 -1.000936  1.365763  1.582777  0.494439\n",
       "1065  1.688896  0.999065  1.024372 -0.916468  0.494439\n",
       "1066 -1.017468  0.999065 -0.798313 -0.916468  0.494439\n",
       "1067  0.691814  0.999065 -1.331479 -0.916468  0.494439\n",
       "1068  1.760116  0.999065  1.420320 -0.083386  0.494439\n",
       "\n",
       "[1069 rows x 5 columns]"
      ]
     },
     "execution_count": 8,
     "metadata": {},
     "output_type": "execute_result"
    }
   ],
   "source": [
    "X_train_sel"
   ]
  },
  {
   "cell_type": "code",
   "execution_count": 9,
   "metadata": {},
   "outputs": [],
   "source": [
    "# for train_data, y_train in zip(X_train_sel[1:], y_train):\n",
    "#     if not isinstance(train_data, pd.DataFrame) or train_data.empty:\n",
    "#         continue  # Skip this iteration if the element is not a non-empty DataFrame\n",
    "    \n",
    "#     X_train = train_data.drop([\"charges\"], axis=1)\n",
    "#     y_train = train_data[\"charges\"]\n",
    "\n",
    "#     from sklearn.linear_model import LinearRegression\n",
    "#     model = LinearRegression()\n",
    "#     model.fit(X_train, y_train)\n",
    "    \n",
    "#     # Assuming X_test_sel is similar to X_train_sel\n",
    "#     for test_data, y_test in zip(X_test_sel[1:], y_test):\n",
    "#         if not isinstance(test_data, pd.DataFrame) or test_data.empty:\n",
    "#             continue  # Skip this iteration if the element is not a non-empty DataFrame\n",
    "\n",
    "#         X_test = test_data.drop([\"charges\"], axis=1)\n",
    "#         y_test = test_data[\"charges\"]\n",
    "\n",
    "#         y_pred = model.predict(X_test)\n",
    "\n",
    "#         from sklearn.metrics import mean_squared_error, r2_score\n",
    "#         print(f\"Error cuadrático medio: {mean_squared_error(y_test, y_pred)}\")\n",
    "#         print(f\"Coeficiente de determinación: {r2_score(y_test, y_pred)}\")\n"
   ]
  },
  {
   "cell_type": "code",
   "execution_count": 10,
   "metadata": {},
   "outputs": [],
   "source": [
    "X_train_sel[\"charges\"] = y_train\n",
    "X_test_sel[\"charges\"] = y_test "
   ]
  },
  {
   "cell_type": "markdown",
   "metadata": {},
   "source": [
    "Exportamos la selección de las 5 mejores variables con las que trabajaremos el modelo"
   ]
  },
  {
   "cell_type": "code",
   "execution_count": 11,
   "metadata": {},
   "outputs": [],
   "source": [
    "X_train_sel.to_csv(\"/workspaces/EDA_3/data/interim/medical_insurance_X_train_sel.csv\", index=False)\n",
    "X_test_sel.to_csv(\"/workspaces/EDA_3/data/interim/medical_insurance_X_test_sel.csv\", index=False)"
   ]
  },
  {
   "cell_type": "code",
   "execution_count": 12,
   "metadata": {},
   "outputs": [
    {
     "data": {
      "text/html": [
       "<div>\n",
       "<style scoped>\n",
       "    .dataframe tbody tr th:only-of-type {\n",
       "        vertical-align: middle;\n",
       "    }\n",
       "\n",
       "    .dataframe tbody tr th {\n",
       "        vertical-align: top;\n",
       "    }\n",
       "\n",
       "    .dataframe thead th {\n",
       "        text-align: right;\n",
       "    }\n",
       "</style>\n",
       "<table border=\"1\" class=\"dataframe\">\n",
       "  <thead>\n",
       "    <tr style=\"text-align: right;\">\n",
       "      <th></th>\n",
       "      <th>0</th>\n",
       "      <th>1</th>\n",
       "      <th>2</th>\n",
       "      <th>3</th>\n",
       "      <th>4</th>\n",
       "      <th>charges</th>\n",
       "    </tr>\n",
       "  </thead>\n",
       "  <tbody>\n",
       "    <tr>\n",
       "      <th>0</th>\n",
       "      <td>0.976695</td>\n",
       "      <td>-1.000936</td>\n",
       "      <td>0.881367</td>\n",
       "      <td>0.749696</td>\n",
       "      <td>0.494439</td>\n",
       "      <td>11163.56800</td>\n",
       "    </tr>\n",
       "    <tr>\n",
       "      <th>1</th>\n",
       "      <td>-1.516009</td>\n",
       "      <td>-1.000936</td>\n",
       "      <td>-0.543716</td>\n",
       "      <td>1.582777</td>\n",
       "      <td>-2.022493</td>\n",
       "      <td>18223.45120</td>\n",
       "    </tr>\n",
       "    <tr>\n",
       "      <th>2</th>\n",
       "      <td>1.546456</td>\n",
       "      <td>0.999065</td>\n",
       "      <td>0.874754</td>\n",
       "      <td>-0.916468</td>\n",
       "      <td>-2.022493</td>\n",
       "      <td>46599.10840</td>\n",
       "    </tr>\n",
       "    <tr>\n",
       "      <th>3</th>\n",
       "      <td>-0.376487</td>\n",
       "      <td>-1.000936</td>\n",
       "      <td>-1.912589</td>\n",
       "      <td>1.582777</td>\n",
       "      <td>0.494439</td>\n",
       "      <td>6753.03800</td>\n",
       "    </tr>\n",
       "    <tr>\n",
       "      <th>4</th>\n",
       "      <td>0.691814</td>\n",
       "      <td>-1.000936</td>\n",
       "      <td>-0.106437</td>\n",
       "      <td>-0.916468</td>\n",
       "      <td>0.494439</td>\n",
       "      <td>8988.15875</td>\n",
       "    </tr>\n",
       "  </tbody>\n",
       "</table>\n",
       "</div>"
      ],
      "text/plain": [
       "          0         1         2         3         4      charges\n",
       "0  0.976695 -1.000936  0.881367  0.749696  0.494439  11163.56800\n",
       "1 -1.516009 -1.000936 -0.543716  1.582777 -2.022493  18223.45120\n",
       "2  1.546456  0.999065  0.874754 -0.916468 -2.022493  46599.10840\n",
       "3 -0.376487 -1.000936 -1.912589  1.582777  0.494439   6753.03800\n",
       "4  0.691814 -1.000936 -0.106437 -0.916468  0.494439   8988.15875"
      ]
     },
     "execution_count": 12,
     "metadata": {},
     "output_type": "execute_result"
    }
   ],
   "source": [
    "train_data = X_train_sel\n",
    "test_data = X_test_sel\n",
    "train_data.head()"
   ]
  },
  {
   "cell_type": "code",
   "execution_count": 13,
   "metadata": {},
   "outputs": [
    {
     "data": {
      "text/html": [
       "<div>\n",
       "<style scoped>\n",
       "    .dataframe tbody tr th:only-of-type {\n",
       "        vertical-align: middle;\n",
       "    }\n",
       "\n",
       "    .dataframe tbody tr th {\n",
       "        vertical-align: top;\n",
       "    }\n",
       "\n",
       "    .dataframe thead th {\n",
       "        text-align: right;\n",
       "    }\n",
       "</style>\n",
       "<table border=\"1\" class=\"dataframe\">\n",
       "  <thead>\n",
       "    <tr style=\"text-align: right;\">\n",
       "      <th></th>\n",
       "      <th>0</th>\n",
       "      <th>1</th>\n",
       "      <th>2</th>\n",
       "      <th>3</th>\n",
       "      <th>4</th>\n",
       "    </tr>\n",
       "  </thead>\n",
       "  <tbody>\n",
       "    <tr>\n",
       "      <th>0</th>\n",
       "      <td>0.976695</td>\n",
       "      <td>-1.000936</td>\n",
       "      <td>0.881367</td>\n",
       "      <td>0.749696</td>\n",
       "      <td>0.494439</td>\n",
       "    </tr>\n",
       "    <tr>\n",
       "      <th>1</th>\n",
       "      <td>-1.516009</td>\n",
       "      <td>-1.000936</td>\n",
       "      <td>-0.543716</td>\n",
       "      <td>1.582777</td>\n",
       "      <td>-2.022493</td>\n",
       "    </tr>\n",
       "    <tr>\n",
       "      <th>2</th>\n",
       "      <td>1.546456</td>\n",
       "      <td>0.999065</td>\n",
       "      <td>0.874754</td>\n",
       "      <td>-0.916468</td>\n",
       "      <td>-2.022493</td>\n",
       "    </tr>\n",
       "    <tr>\n",
       "      <th>3</th>\n",
       "      <td>-0.376487</td>\n",
       "      <td>-1.000936</td>\n",
       "      <td>-1.912589</td>\n",
       "      <td>1.582777</td>\n",
       "      <td>0.494439</td>\n",
       "    </tr>\n",
       "    <tr>\n",
       "      <th>4</th>\n",
       "      <td>0.691814</td>\n",
       "      <td>-1.000936</td>\n",
       "      <td>-0.106437</td>\n",
       "      <td>-0.916468</td>\n",
       "      <td>0.494439</td>\n",
       "    </tr>\n",
       "  </tbody>\n",
       "</table>\n",
       "</div>"
      ],
      "text/plain": [
       "          0         1         2         3         4\n",
       "0  0.976695 -1.000936  0.881367  0.749696  0.494439\n",
       "1 -1.516009 -1.000936 -0.543716  1.582777 -2.022493\n",
       "2  1.546456  0.999065  0.874754 -0.916468 -2.022493\n",
       "3 -0.376487 -1.000936 -1.912589  1.582777  0.494439\n",
       "4  0.691814 -1.000936 -0.106437 -0.916468  0.494439"
      ]
     },
     "execution_count": 13,
     "metadata": {},
     "output_type": "execute_result"
    }
   ],
   "source": [
    "X_train = train_data.drop([\"charges\"], axis = 1)\n",
    "y_train = train_data[\"charges\"]\n",
    "X_train.head()"
   ]
  },
  {
   "cell_type": "code",
   "execution_count": 14,
   "metadata": {},
   "outputs": [
    {
     "data": {
      "text/html": [
       "<div>\n",
       "<style scoped>\n",
       "    .dataframe tbody tr th:only-of-type {\n",
       "        vertical-align: middle;\n",
       "    }\n",
       "\n",
       "    .dataframe tbody tr th {\n",
       "        vertical-align: top;\n",
       "    }\n",
       "\n",
       "    .dataframe thead th {\n",
       "        text-align: right;\n",
       "    }\n",
       "</style>\n",
       "<table border=\"1\" class=\"dataframe\">\n",
       "  <thead>\n",
       "    <tr style=\"text-align: right;\">\n",
       "      <th></th>\n",
       "      <th>0</th>\n",
       "      <th>1</th>\n",
       "      <th>2</th>\n",
       "      <th>3</th>\n",
       "      <th>4</th>\n",
       "    </tr>\n",
       "  </thead>\n",
       "  <tbody>\n",
       "    <tr>\n",
       "      <th>0</th>\n",
       "      <td>-0.518927</td>\n",
       "      <td>0.999065</td>\n",
       "      <td>2.638749</td>\n",
       "      <td>0.749696</td>\n",
       "      <td>0.494439</td>\n",
       "    </tr>\n",
       "    <tr>\n",
       "      <th>1</th>\n",
       "      <td>-1.159908</td>\n",
       "      <td>-1.000936</td>\n",
       "      <td>-0.424683</td>\n",
       "      <td>-0.916468</td>\n",
       "      <td>0.494439</td>\n",
       "    </tr>\n",
       "    <tr>\n",
       "      <th>2</th>\n",
       "      <td>0.122054</td>\n",
       "      <td>0.999065</td>\n",
       "      <td>0.601972</td>\n",
       "      <td>-0.083386</td>\n",
       "      <td>0.494439</td>\n",
       "    </tr>\n",
       "    <tr>\n",
       "      <th>3</th>\n",
       "      <td>0.763034</td>\n",
       "      <td>0.999065</td>\n",
       "      <td>0.600318</td>\n",
       "      <td>0.749696</td>\n",
       "      <td>-2.022493</td>\n",
       "    </tr>\n",
       "    <tr>\n",
       "      <th>4</th>\n",
       "      <td>1.546456</td>\n",
       "      <td>0.999065</td>\n",
       "      <td>0.914432</td>\n",
       "      <td>1.582777</td>\n",
       "      <td>0.494439</td>\n",
       "    </tr>\n",
       "  </tbody>\n",
       "</table>\n",
       "</div>"
      ],
      "text/plain": [
       "          0         1         2         3         4\n",
       "0 -0.518927  0.999065  2.638749  0.749696  0.494439\n",
       "1 -1.159908 -1.000936 -0.424683 -0.916468  0.494439\n",
       "2  0.122054  0.999065  0.601972 -0.083386  0.494439\n",
       "3  0.763034  0.999065  0.600318  0.749696 -2.022493\n",
       "4  1.546456  0.999065  0.914432  1.582777  0.494439"
      ]
     },
     "execution_count": 14,
     "metadata": {},
     "output_type": "execute_result"
    }
   ],
   "source": [
    "X_test = test_data.drop([\"charges\"], axis = 1)\n",
    "y_test = test_data[\"charges\"]\n",
    "X_test.head()"
   ]
  },
  {
   "cell_type": "code",
   "execution_count": 15,
   "metadata": {},
   "outputs": [
    {
     "data": {
      "text/html": [
       "<style>#sk-container-id-1 {color: black;}#sk-container-id-1 pre{padding: 0;}#sk-container-id-1 div.sk-toggleable {background-color: white;}#sk-container-id-1 label.sk-toggleable__label {cursor: pointer;display: block;width: 100%;margin-bottom: 0;padding: 0.3em;box-sizing: border-box;text-align: center;}#sk-container-id-1 label.sk-toggleable__label-arrow:before {content: \"▸\";float: left;margin-right: 0.25em;color: #696969;}#sk-container-id-1 label.sk-toggleable__label-arrow:hover:before {color: black;}#sk-container-id-1 div.sk-estimator:hover label.sk-toggleable__label-arrow:before {color: black;}#sk-container-id-1 div.sk-toggleable__content {max-height: 0;max-width: 0;overflow: hidden;text-align: left;background-color: #f0f8ff;}#sk-container-id-1 div.sk-toggleable__content pre {margin: 0.2em;color: black;border-radius: 0.25em;background-color: #f0f8ff;}#sk-container-id-1 input.sk-toggleable__control:checked~div.sk-toggleable__content {max-height: 200px;max-width: 100%;overflow: auto;}#sk-container-id-1 input.sk-toggleable__control:checked~label.sk-toggleable__label-arrow:before {content: \"▾\";}#sk-container-id-1 div.sk-estimator input.sk-toggleable__control:checked~label.sk-toggleable__label {background-color: #d4ebff;}#sk-container-id-1 div.sk-label input.sk-toggleable__control:checked~label.sk-toggleable__label {background-color: #d4ebff;}#sk-container-id-1 input.sk-hidden--visually {border: 0;clip: rect(1px 1px 1px 1px);clip: rect(1px, 1px, 1px, 1px);height: 1px;margin: -1px;overflow: hidden;padding: 0;position: absolute;width: 1px;}#sk-container-id-1 div.sk-estimator {font-family: monospace;background-color: #f0f8ff;border: 1px dotted black;border-radius: 0.25em;box-sizing: border-box;margin-bottom: 0.5em;}#sk-container-id-1 div.sk-estimator:hover {background-color: #d4ebff;}#sk-container-id-1 div.sk-parallel-item::after {content: \"\";width: 100%;border-bottom: 1px solid gray;flex-grow: 1;}#sk-container-id-1 div.sk-label:hover label.sk-toggleable__label {background-color: #d4ebff;}#sk-container-id-1 div.sk-serial::before {content: \"\";position: absolute;border-left: 1px solid gray;box-sizing: border-box;top: 0;bottom: 0;left: 50%;z-index: 0;}#sk-container-id-1 div.sk-serial {display: flex;flex-direction: column;align-items: center;background-color: white;padding-right: 0.2em;padding-left: 0.2em;position: relative;}#sk-container-id-1 div.sk-item {position: relative;z-index: 1;}#sk-container-id-1 div.sk-parallel {display: flex;align-items: stretch;justify-content: center;background-color: white;position: relative;}#sk-container-id-1 div.sk-item::before, #sk-container-id-1 div.sk-parallel-item::before {content: \"\";position: absolute;border-left: 1px solid gray;box-sizing: border-box;top: 0;bottom: 0;left: 50%;z-index: -1;}#sk-container-id-1 div.sk-parallel-item {display: flex;flex-direction: column;z-index: 1;position: relative;background-color: white;}#sk-container-id-1 div.sk-parallel-item:first-child::after {align-self: flex-end;width: 50%;}#sk-container-id-1 div.sk-parallel-item:last-child::after {align-self: flex-start;width: 50%;}#sk-container-id-1 div.sk-parallel-item:only-child::after {width: 0;}#sk-container-id-1 div.sk-dashed-wrapped {border: 1px dashed gray;margin: 0 0.4em 0.5em 0.4em;box-sizing: border-box;padding-bottom: 0.4em;background-color: white;}#sk-container-id-1 div.sk-label label {font-family: monospace;font-weight: bold;display: inline-block;line-height: 1.2em;}#sk-container-id-1 div.sk-label-container {text-align: center;}#sk-container-id-1 div.sk-container {/* jupyter's `normalize.less` sets `[hidden] { display: none; }` but bootstrap.min.css set `[hidden] { display: none !important; }` so we also need the `!important` here to be able to override the default hidden behavior on the sphinx rendered scikit-learn.org. See: https://github.com/scikit-learn/scikit-learn/issues/21755 */display: inline-block !important;position: relative;}#sk-container-id-1 div.sk-text-repr-fallback {display: none;}</style><div id=\"sk-container-id-1\" class=\"sk-top-container\"><div class=\"sk-text-repr-fallback\"><pre>LinearRegression()</pre><b>In a Jupyter environment, please rerun this cell to show the HTML representation or trust the notebook. <br />On GitHub, the HTML representation is unable to render, please try loading this page with nbviewer.org.</b></div><div class=\"sk-container\" hidden><div class=\"sk-item\"><div class=\"sk-estimator sk-toggleable\"><input class=\"sk-toggleable__control sk-hidden--visually\" id=\"sk-estimator-id-1\" type=\"checkbox\" checked><label for=\"sk-estimator-id-1\" class=\"sk-toggleable__label sk-toggleable__label-arrow\">LinearRegression</label><div class=\"sk-toggleable__content\"><pre>LinearRegression()</pre></div></div></div></div></div>"
      ],
      "text/plain": [
       "LinearRegression()"
      ]
     },
     "execution_count": 15,
     "metadata": {},
     "output_type": "execute_result"
    }
   ],
   "source": [
    "from sklearn.linear_model import LinearRegression\n",
    "\n",
    "model = LinearRegression()\n",
    "model.fit(X_train, y_train)"
   ]
  },
  {
   "cell_type": "code",
   "execution_count": 16,
   "metadata": {},
   "outputs": [
    {
     "name": "stdout",
     "output_type": "stream",
     "text": [
      "Intercept (a): 13056.014647071092\n",
      "Coefficients (b): [ 3541.14386216    59.09064291  1953.36365645   388.10075381\n",
      " -9402.14338583]\n"
     ]
    }
   ],
   "source": [
    "print(f\"Intercept (a): {model.intercept_}\")\n",
    "print(f\"Coefficients (b): {model.coef_}\")"
   ]
  },
  {
   "cell_type": "code",
   "execution_count": 17,
   "metadata": {},
   "outputs": [
    {
     "data": {
      "text/plain": [
       "array([12074.05793548,  3055.43368303, 10041.97637018, 36296.42744771,\n",
       "       16342.97649272, 29239.3209985 ,  2111.52815234, 14840.14411257,\n",
       "        6534.73148334, 30448.17132866, 10030.510156  ,  6261.56333801,\n",
       "       11395.71188275,  6759.87638705, 18042.23972806, 11127.58962741,\n",
       "       15277.52736546,  5822.07151867,  3459.16398079, 30516.5969392 ,\n",
       "         148.07925351,  4561.06841619, 13559.94178379,  3290.25583334,\n",
       "       16109.31089706, 14563.81360667,  1307.10752905, 38772.5413421 ,\n",
       "        5589.11413632, 10619.15532514,  3751.98165014,  6954.91935946,\n",
       "        6951.40879315, 12456.42169182, 11082.88303507, 28861.52104589,\n",
       "       26412.96140073,  8831.05421612, 13014.19296484,  8721.24263835,\n",
       "       39358.16843331,  7681.18368985, 11780.72968483,  5901.63121114,\n",
       "       26948.65064973, 12998.86235603,  7234.0382131 , 32561.15852559,\n",
       "        4385.80725038, 34952.30878635, 34206.54690536, 11672.41755454,\n",
       "       10878.06377051,  6799.11075419,  7582.49794652, 37794.28906972,\n",
       "        9225.07052473, 40718.53859531, 17559.18931347,  4398.47360956,\n",
       "       11985.38028273,  3451.35314889,  3985.6768309 , 36675.87784304,\n",
       "        5713.45586302,  8851.89770587,  2394.40766188, 29754.46972641,\n",
       "        4256.81509594,  7919.84529406, 12027.21556951,  -483.25998945,\n",
       "        7373.96779567,  5654.07277088,  9175.33876026,  9302.77791961,\n",
       "       11096.04632876, 33930.37522069, 10779.91030454,  2852.35570805,\n",
       "       33491.48102815, 27934.84861272, 13904.17907142, 38572.39342136,\n",
       "        3334.9318624 ,  -321.79215237, 36700.14105225,  8535.62877935,\n",
       "       10413.05407116,  4302.58697457, 11590.33249579, 12154.40268286,\n",
       "       29882.41230959,  6422.22649235,  7298.63879649, 30961.00499088,\n",
       "        2939.85815653,  5574.78908692,  1390.15089071,  -192.61788271,\n",
       "        3621.27834791, 10027.98540944, 13235.37798271,  6848.72208673,\n",
       "        5809.2407157 , 11224.92649698,  7953.25238247, 31420.0307937 ,\n",
       "       14620.94991717,  1605.08002817,  9215.96827948, 24161.40596537,\n",
       "       11106.41669338, 11217.57843317, 14154.13095387, 15791.91500098,\n",
       "        9676.7607341 , 27095.27558681, 39255.13981224,  5223.9592053 ,\n",
       "       13146.82076191, 15255.87192367, 37641.43056803, 11157.54221021,\n",
       "        4326.5685527 , 28537.13611537,  4481.90191951, 12601.80247206,\n",
       "       11682.31365891,  9444.24802691,  5527.19449578,  9755.80679883,\n",
       "       10370.78657958, 10169.3423541 , 39215.80897567, 26092.81040816,\n",
       "       12926.43847037,  6903.05506602,  6582.57983023, 13296.97338003,\n",
       "       16870.28253341,  8506.61280339, 14487.24142885, 24807.27731366,\n",
       "        4801.60823692,  8360.66495964, 25693.80793643, 39940.48974768,\n",
       "        3188.23277169, 36252.56337069,  4769.60052345, 12190.04701716,\n",
       "        6087.335917  , 35809.14840806,  9946.46025672, 13964.60348733,\n",
       "        6119.6600477 ,  1092.35530574, 30338.11161771, 10834.10115583,\n",
       "       11856.30975179, 10609.60535829, 29823.79617942,  6660.72365276,\n",
       "       35359.53002259, 35442.30660144, 11244.87697024,  1384.30227439,\n",
       "       31818.35097103, 11136.19334023, 37216.18500008,  8088.22801194,\n",
       "       14220.272062  ,  4138.26030228, 13511.29437673, 10891.31064176,\n",
       "        9987.68740274, 32320.94912734, 27891.81318096,  2215.27647888,\n",
       "        9419.94220556,  9054.60938219,  7520.23370338, 12697.18470502,\n",
       "       10834.33975326,  3303.79484963, 28910.26069952,   657.01471316,\n",
       "       36724.05043315, 25808.06710887, 12533.85209998, 11702.67670914,\n",
       "       29392.85396859,  4260.45238529, 11180.39877519, 12316.86458719,\n",
       "       25855.51339273, 28025.33032835,  4856.35434989,  7727.32706821,\n",
       "       10547.68247309, 33196.05656957,  1151.80008116,  7367.13660425,\n",
       "       33266.98002954,  5966.63808041,   857.79571538,  1250.28396962,\n",
       "        7133.49594931,  2855.52435972, 10688.59071795,  4896.25267148,\n",
       "        5806.85809714,  8909.17938903,  1273.58423156,  2984.07606186,\n",
       "        5100.91940591, 37226.97607734,  6010.23341822, 17730.44798129,\n",
       "       11054.31900357,  4799.28632344, 11478.16421838,  2095.32164176,\n",
       "       17611.58337117, 32700.05100725,  4343.20402342,  9505.519181  ,\n",
       "        8759.7323593 ,  6907.69724626, 33023.79136414, 12786.05272048,\n",
       "        5893.75142666,  9193.16092741, 34414.46793725, 16804.55498046,\n",
       "        5154.46635209, 11044.30864653, 11631.5586636 ,  4680.31179534,\n",
       "       13216.49052928,  5885.53266214, 26702.78733257,  7261.69577954,\n",
       "        5706.68635488,  6538.00809659, 18040.89378891,  7808.40192319,\n",
       "       10748.19529279, 12506.34186261, 11354.08309522, 32275.85336384,\n",
       "       28008.44054518,  9645.32735343,  9717.85920067,  7000.34303235,\n",
       "       32687.87755796, 39203.72019396, 23676.69165948, 14095.80794694,\n",
       "        1948.69670468, 15229.99347939,  7150.97675851,  2804.78703584,\n",
       "       23961.18584739, 32990.91826285,  9711.39430792, 15242.28931704])"
      ]
     },
     "execution_count": 17,
     "metadata": {},
     "output_type": "execute_result"
    }
   ],
   "source": [
    "y_pred = model.predict(X_test)\n",
    "y_pred"
   ]
  },
  {
   "cell_type": "code",
   "execution_count": 19,
   "metadata": {},
   "outputs": [
    {
     "name": "stdout",
     "output_type": "stream",
     "text": [
      "Error cuadrático medio: 6282.739994993724\n",
      "Coeficiente de determinación: 0.7673264668767327\n"
     ]
    }
   ],
   "source": [
    "from sklearn.metrics import mean_squared_error, r2_score\n",
    "import math\n",
    "print(f\"Error cuadrático medio: {math.sqrt(mean_squared_error(y_test, y_pred))}\")\n",
    "print(f\"Coeficiente de determinación: {r2_score(y_test, y_pred)}\")"
   ]
  },
  {
   "cell_type": "markdown",
   "metadata": {},
   "source": [
    "## *Conclusión:*"
   ]
  },
  {
   "cell_type": "markdown",
   "metadata": {},
   "source": [
    "Obtenemos un R2 del 0.77 lo cual no resulta del todo óptimo. \n",
    "\n",
    "Revisando outliers y variables tampoco encontramos nada que podamos variar en pro de nuestro modelo por lo tanto nos quedamos con este resultado. \n",
    "\n",
    "Concluimos que no podemos mejorar mucho más un modelo con estos datos proporcionados, loc cuál puede ser debido a pocas correlaciones fuertes con el target y a su vez con el escaso número de columnas."
   ]
  },
  {
   "cell_type": "markdown",
   "metadata": {},
   "source": []
  }
 ],
 "metadata": {
  "kernelspec": {
   "display_name": "Python 3",
   "language": "python",
   "name": "python3"
  },
  "language_info": {
   "codemirror_mode": {
    "name": "ipython",
    "version": 3
   },
   "file_extension": ".py",
   "mimetype": "text/x-python",
   "name": "python",
   "nbconvert_exporter": "python",
   "pygments_lexer": "ipython3",
   "version": "3.11.4"
  }
 },
 "nbformat": 4,
 "nbformat_minor": 2
}
