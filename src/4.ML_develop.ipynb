{
 "cells": [
  {
   "cell_type": "code",
   "execution_count": 74,
   "metadata": {},
   "outputs": [],
   "source": [
    "import pandas as pd"
   ]
  },
  {
   "cell_type": "code",
   "execution_count": 75,
   "metadata": {},
   "outputs": [],
   "source": [
    "\n",
    "y_train = pd.read_csv('/workspaces/EDA_3/data/processed/medical_insurance_y_train.csv')\n",
    "y_test = pd.read_csv('/workspaces/EDA_3/data/processed/medical_insurance_y_test.csv')\n",
    "\n",
    "X_train_norm = pd.read_csv('/workspaces/EDA_3/data/interim/medical_insurance_X_train_std.csv')\n",
    "X_test_norm = pd.read_csv('/workspaces/EDA_3/data/interim/medical_insurance_X_test_std.csv')"
   ]
  },
  {
   "cell_type": "code",
   "execution_count": 76,
   "metadata": {},
   "outputs": [],
   "source": [
    "from sklearn.feature_selection import f_regression, SelectKBest"
   ]
  },
  {
   "cell_type": "code",
   "execution_count": 77,
   "metadata": {},
   "outputs": [],
   "source": [
    "pred_nums = []\n",
    "for i in range(len(X_train_norm.columns)):\n",
    "    pred_nums.append(i)"
   ]
  },
  {
   "cell_type": "code",
   "execution_count": 78,
   "metadata": {},
   "outputs": [],
   "source": [
    "# X_train_sel = []\n",
    "# X_test_sel = []\n",
    "# for number in pred_nums:\n",
    "#     selection_model = SelectKBest(f_regression, k = number)\n",
    "#     selection_model.fit(X_train_norm, y_train)\n",
    "#     ix = selection_model.get_support()\n",
    "#     X_train_sel.append(pd.DataFrame(selection_model.transform(X_train_norm), columns = X_train_norm.columns.values[ix]))\n",
    "#     X_test_sel.append(pd.DataFrame(selection_model.transform(X_test_norm), columns = X_test_norm.columns.values[ix]))\n",
    "    # X_train_sel[\"charges\"] = y_train\n",
    "    # X_test_sel[\"charges\"] = y_test    \n",
    "    # train_data = X_train_sel\n",
    "    # test_data = X_test_sel\n",
    "    # X_train = train_data.drop([\"charges\"], axis = 1)\n",
    "    # y_train = train_data[\"charges\"] \n",
    "    # X_test = test_data.drop([\"charges\"], axis = 1)\n",
    "    # y_test = test_data[\"charges\"]\n",
    "    \n",
    "    # from sklearn.linear_model import LinearRegression\n",
    "\n",
    "    # model = LinearRegression()\n",
    "    # model.fit(X_train, y_train)\n",
    "    # y_pred = model.predict(X_test)\n",
    "    # from sklearn.metrics import mean_squared_error, r2_score\n",
    "\n",
    "    # print(f\"Error cuadrático medio: {mean_squared_error(y_test, y_pred)}\")\n",
    "    # print(f\"Coeficiente de determinación: {r2_score(y_test, y_pred)}\")\n",
    "\n"
   ]
  },
  {
   "cell_type": "code",
   "execution_count": 79,
   "metadata": {},
   "outputs": [
    {
     "name": "stderr",
     "output_type": "stream",
     "text": [
      "/home/vscode/.local/lib/python3.11/site-packages/sklearn/utils/validation.py:1183: DataConversionWarning: A column-vector y was passed when a 1d array was expected. Please change the shape of y to (n_samples, ), for example using ravel().\n",
      "  y = column_or_1d(y, warn=True)\n"
     ]
    }
   ],
   "source": [
    "selection_model = SelectKBest(f_regression, k = 3)\n",
    "selection_model.fit(X_train_norm, y_train)\n",
    "ix = selection_model.get_support()\n",
    "X_train_sel = pd.DataFrame(selection_model.transform(X_train_norm), columns = X_train_norm.columns.values[ix])\n",
    "X_test_sel = pd.DataFrame(selection_model.transform(X_test_norm), columns = X_test_norm.columns.values[ix])"
   ]
  },
  {
   "cell_type": "code",
   "execution_count": 80,
   "metadata": {},
   "outputs": [
    {
     "data": {
      "text/html": [
       "<div>\n",
       "<style scoped>\n",
       "    .dataframe tbody tr th:only-of-type {\n",
       "        vertical-align: middle;\n",
       "    }\n",
       "\n",
       "    .dataframe tbody tr th {\n",
       "        vertical-align: top;\n",
       "    }\n",
       "\n",
       "    .dataframe thead th {\n",
       "        text-align: right;\n",
       "    }\n",
       "</style>\n",
       "<table border=\"1\" class=\"dataframe\">\n",
       "  <thead>\n",
       "    <tr style=\"text-align: right;\">\n",
       "      <th></th>\n",
       "      <th>0</th>\n",
       "      <th>2</th>\n",
       "      <th>4</th>\n",
       "    </tr>\n",
       "  </thead>\n",
       "  <tbody>\n",
       "    <tr>\n",
       "      <th>0</th>\n",
       "      <td>0.976695</td>\n",
       "      <td>0.881367</td>\n",
       "      <td>0.494439</td>\n",
       "    </tr>\n",
       "    <tr>\n",
       "      <th>1</th>\n",
       "      <td>-1.516009</td>\n",
       "      <td>-0.543716</td>\n",
       "      <td>-2.022493</td>\n",
       "    </tr>\n",
       "    <tr>\n",
       "      <th>2</th>\n",
       "      <td>1.546456</td>\n",
       "      <td>0.874754</td>\n",
       "      <td>-2.022493</td>\n",
       "    </tr>\n",
       "    <tr>\n",
       "      <th>3</th>\n",
       "      <td>-0.376487</td>\n",
       "      <td>-1.912589</td>\n",
       "      <td>0.494439</td>\n",
       "    </tr>\n",
       "    <tr>\n",
       "      <th>4</th>\n",
       "      <td>0.691814</td>\n",
       "      <td>-0.106437</td>\n",
       "      <td>0.494439</td>\n",
       "    </tr>\n",
       "    <tr>\n",
       "      <th>...</th>\n",
       "      <td>...</td>\n",
       "      <td>...</td>\n",
       "      <td>...</td>\n",
       "    </tr>\n",
       "    <tr>\n",
       "      <th>1064</th>\n",
       "      <td>-0.732588</td>\n",
       "      <td>1.365763</td>\n",
       "      <td>0.494439</td>\n",
       "    </tr>\n",
       "    <tr>\n",
       "      <th>1065</th>\n",
       "      <td>1.688896</td>\n",
       "      <td>1.024372</td>\n",
       "      <td>0.494439</td>\n",
       "    </tr>\n",
       "    <tr>\n",
       "      <th>1066</th>\n",
       "      <td>-1.017468</td>\n",
       "      <td>-0.798313</td>\n",
       "      <td>0.494439</td>\n",
       "    </tr>\n",
       "    <tr>\n",
       "      <th>1067</th>\n",
       "      <td>0.691814</td>\n",
       "      <td>-1.331479</td>\n",
       "      <td>0.494439</td>\n",
       "    </tr>\n",
       "    <tr>\n",
       "      <th>1068</th>\n",
       "      <td>1.760116</td>\n",
       "      <td>1.420320</td>\n",
       "      <td>0.494439</td>\n",
       "    </tr>\n",
       "  </tbody>\n",
       "</table>\n",
       "<p>1069 rows × 3 columns</p>\n",
       "</div>"
      ],
      "text/plain": [
       "             0         2         4\n",
       "0     0.976695  0.881367  0.494439\n",
       "1    -1.516009 -0.543716 -2.022493\n",
       "2     1.546456  0.874754 -2.022493\n",
       "3    -0.376487 -1.912589  0.494439\n",
       "4     0.691814 -0.106437  0.494439\n",
       "...        ...       ...       ...\n",
       "1064 -0.732588  1.365763  0.494439\n",
       "1065  1.688896  1.024372  0.494439\n",
       "1066 -1.017468 -0.798313  0.494439\n",
       "1067  0.691814 -1.331479  0.494439\n",
       "1068  1.760116  1.420320  0.494439\n",
       "\n",
       "[1069 rows x 3 columns]"
      ]
     },
     "execution_count": 80,
     "metadata": {},
     "output_type": "execute_result"
    }
   ],
   "source": [
    "X_train_sel"
   ]
  },
  {
   "cell_type": "code",
   "execution_count": 81,
   "metadata": {},
   "outputs": [],
   "source": [
    "# for train_data, y_train in zip(X_train_sel[1:], y_train):\n",
    "#     if not isinstance(train_data, pd.DataFrame) or train_data.empty:\n",
    "#         continue  # Skip this iteration if the element is not a non-empty DataFrame\n",
    "    \n",
    "#     X_train = train_data.drop([\"charges\"], axis=1)\n",
    "#     y_train = train_data[\"charges\"]\n",
    "\n",
    "#     from sklearn.linear_model import LinearRegression\n",
    "#     model = LinearRegression()\n",
    "#     model.fit(X_train, y_train)\n",
    "    \n",
    "#     # Assuming X_test_sel is similar to X_train_sel\n",
    "#     for test_data, y_test in zip(X_test_sel[1:], y_test):\n",
    "#         if not isinstance(test_data, pd.DataFrame) or test_data.empty:\n",
    "#             continue  # Skip this iteration if the element is not a non-empty DataFrame\n",
    "\n",
    "#         X_test = test_data.drop([\"charges\"], axis=1)\n",
    "#         y_test = test_data[\"charges\"]\n",
    "\n",
    "#         y_pred = model.predict(X_test)\n",
    "\n",
    "#         from sklearn.metrics import mean_squared_error, r2_score\n",
    "#         print(f\"Error cuadrático medio: {mean_squared_error(y_test, y_pred)}\")\n",
    "#         print(f\"Coeficiente de determinación: {r2_score(y_test, y_pred)}\")\n"
   ]
  },
  {
   "cell_type": "code",
   "execution_count": 82,
   "metadata": {},
   "outputs": [],
   "source": [
    "X_train_sel[\"charges\"] = y_train\n",
    "X_test_sel[\"charges\"] = y_test "
   ]
  },
  {
   "cell_type": "code",
   "execution_count": 83,
   "metadata": {},
   "outputs": [],
   "source": [
    "X_train_sel.to_csv(\"/workspaces/EDA_3/data/interim/medical_insurance_X_train_sel.csv\", index=False)\n",
    "X_test_sel.to_csv(\"/workspaces/EDA_3/data/interim/medical_insurance_X_test_sel.csv\", index=False)"
   ]
  },
  {
   "cell_type": "code",
   "execution_count": 84,
   "metadata": {},
   "outputs": [
    {
     "data": {
      "text/html": [
       "<div>\n",
       "<style scoped>\n",
       "    .dataframe tbody tr th:only-of-type {\n",
       "        vertical-align: middle;\n",
       "    }\n",
       "\n",
       "    .dataframe tbody tr th {\n",
       "        vertical-align: top;\n",
       "    }\n",
       "\n",
       "    .dataframe thead th {\n",
       "        text-align: right;\n",
       "    }\n",
       "</style>\n",
       "<table border=\"1\" class=\"dataframe\">\n",
       "  <thead>\n",
       "    <tr style=\"text-align: right;\">\n",
       "      <th></th>\n",
       "      <th>0</th>\n",
       "      <th>2</th>\n",
       "      <th>4</th>\n",
       "      <th>charges</th>\n",
       "    </tr>\n",
       "  </thead>\n",
       "  <tbody>\n",
       "    <tr>\n",
       "      <th>0</th>\n",
       "      <td>0.976695</td>\n",
       "      <td>0.881367</td>\n",
       "      <td>0.494439</td>\n",
       "      <td>11163.56800</td>\n",
       "    </tr>\n",
       "    <tr>\n",
       "      <th>1</th>\n",
       "      <td>-1.516009</td>\n",
       "      <td>-0.543716</td>\n",
       "      <td>-2.022493</td>\n",
       "      <td>18223.45120</td>\n",
       "    </tr>\n",
       "    <tr>\n",
       "      <th>2</th>\n",
       "      <td>1.546456</td>\n",
       "      <td>0.874754</td>\n",
       "      <td>-2.022493</td>\n",
       "      <td>46599.10840</td>\n",
       "    </tr>\n",
       "    <tr>\n",
       "      <th>3</th>\n",
       "      <td>-0.376487</td>\n",
       "      <td>-1.912589</td>\n",
       "      <td>0.494439</td>\n",
       "      <td>6753.03800</td>\n",
       "    </tr>\n",
       "    <tr>\n",
       "      <th>4</th>\n",
       "      <td>0.691814</td>\n",
       "      <td>-0.106437</td>\n",
       "      <td>0.494439</td>\n",
       "      <td>8988.15875</td>\n",
       "    </tr>\n",
       "  </tbody>\n",
       "</table>\n",
       "</div>"
      ],
      "text/plain": [
       "          0         2         4      charges\n",
       "0  0.976695  0.881367  0.494439  11163.56800\n",
       "1 -1.516009 -0.543716 -2.022493  18223.45120\n",
       "2  1.546456  0.874754 -2.022493  46599.10840\n",
       "3 -0.376487 -1.912589  0.494439   6753.03800\n",
       "4  0.691814 -0.106437  0.494439   8988.15875"
      ]
     },
     "execution_count": 84,
     "metadata": {},
     "output_type": "execute_result"
    }
   ],
   "source": [
    "train_data = X_train_sel\n",
    "test_data = X_test_sel\n",
    "train_data.head()"
   ]
  },
  {
   "cell_type": "code",
   "execution_count": 85,
   "metadata": {},
   "outputs": [
    {
     "data": {
      "text/html": [
       "<div>\n",
       "<style scoped>\n",
       "    .dataframe tbody tr th:only-of-type {\n",
       "        vertical-align: middle;\n",
       "    }\n",
       "\n",
       "    .dataframe tbody tr th {\n",
       "        vertical-align: top;\n",
       "    }\n",
       "\n",
       "    .dataframe thead th {\n",
       "        text-align: right;\n",
       "    }\n",
       "</style>\n",
       "<table border=\"1\" class=\"dataframe\">\n",
       "  <thead>\n",
       "    <tr style=\"text-align: right;\">\n",
       "      <th></th>\n",
       "      <th>0</th>\n",
       "      <th>2</th>\n",
       "      <th>4</th>\n",
       "    </tr>\n",
       "  </thead>\n",
       "  <tbody>\n",
       "    <tr>\n",
       "      <th>0</th>\n",
       "      <td>0.976695</td>\n",
       "      <td>0.881367</td>\n",
       "      <td>0.494439</td>\n",
       "    </tr>\n",
       "    <tr>\n",
       "      <th>1</th>\n",
       "      <td>-1.516009</td>\n",
       "      <td>-0.543716</td>\n",
       "      <td>-2.022493</td>\n",
       "    </tr>\n",
       "    <tr>\n",
       "      <th>2</th>\n",
       "      <td>1.546456</td>\n",
       "      <td>0.874754</td>\n",
       "      <td>-2.022493</td>\n",
       "    </tr>\n",
       "    <tr>\n",
       "      <th>3</th>\n",
       "      <td>-0.376487</td>\n",
       "      <td>-1.912589</td>\n",
       "      <td>0.494439</td>\n",
       "    </tr>\n",
       "    <tr>\n",
       "      <th>4</th>\n",
       "      <td>0.691814</td>\n",
       "      <td>-0.106437</td>\n",
       "      <td>0.494439</td>\n",
       "    </tr>\n",
       "  </tbody>\n",
       "</table>\n",
       "</div>"
      ],
      "text/plain": [
       "          0         2         4\n",
       "0  0.976695  0.881367  0.494439\n",
       "1 -1.516009 -0.543716 -2.022493\n",
       "2  1.546456  0.874754 -2.022493\n",
       "3 -0.376487 -1.912589  0.494439\n",
       "4  0.691814 -0.106437  0.494439"
      ]
     },
     "execution_count": 85,
     "metadata": {},
     "output_type": "execute_result"
    }
   ],
   "source": [
    "X_train = train_data.drop([\"charges\"], axis = 1)\n",
    "y_train = train_data[\"charges\"]\n",
    "X_train.head()"
   ]
  },
  {
   "cell_type": "code",
   "execution_count": 86,
   "metadata": {},
   "outputs": [
    {
     "data": {
      "text/html": [
       "<div>\n",
       "<style scoped>\n",
       "    .dataframe tbody tr th:only-of-type {\n",
       "        vertical-align: middle;\n",
       "    }\n",
       "\n",
       "    .dataframe tbody tr th {\n",
       "        vertical-align: top;\n",
       "    }\n",
       "\n",
       "    .dataframe thead th {\n",
       "        text-align: right;\n",
       "    }\n",
       "</style>\n",
       "<table border=\"1\" class=\"dataframe\">\n",
       "  <thead>\n",
       "    <tr style=\"text-align: right;\">\n",
       "      <th></th>\n",
       "      <th>0</th>\n",
       "      <th>2</th>\n",
       "      <th>4</th>\n",
       "    </tr>\n",
       "  </thead>\n",
       "  <tbody>\n",
       "    <tr>\n",
       "      <th>0</th>\n",
       "      <td>-0.518927</td>\n",
       "      <td>2.638749</td>\n",
       "      <td>0.494439</td>\n",
       "    </tr>\n",
       "    <tr>\n",
       "      <th>1</th>\n",
       "      <td>-1.159908</td>\n",
       "      <td>-0.424683</td>\n",
       "      <td>0.494439</td>\n",
       "    </tr>\n",
       "    <tr>\n",
       "      <th>2</th>\n",
       "      <td>0.122054</td>\n",
       "      <td>0.601972</td>\n",
       "      <td>0.494439</td>\n",
       "    </tr>\n",
       "    <tr>\n",
       "      <th>3</th>\n",
       "      <td>0.763034</td>\n",
       "      <td>0.600318</td>\n",
       "      <td>-2.022493</td>\n",
       "    </tr>\n",
       "    <tr>\n",
       "      <th>4</th>\n",
       "      <td>1.546456</td>\n",
       "      <td>0.914432</td>\n",
       "      <td>0.494439</td>\n",
       "    </tr>\n",
       "  </tbody>\n",
       "</table>\n",
       "</div>"
      ],
      "text/plain": [
       "          0         2         4\n",
       "0 -0.518927  2.638749  0.494439\n",
       "1 -1.159908 -0.424683  0.494439\n",
       "2  0.122054  0.601972  0.494439\n",
       "3  0.763034  0.600318 -2.022493\n",
       "4  1.546456  0.914432  0.494439"
      ]
     },
     "execution_count": 86,
     "metadata": {},
     "output_type": "execute_result"
    }
   ],
   "source": [
    "X_test = test_data.drop([\"charges\"], axis = 1)\n",
    "y_test = test_data[\"charges\"]\n",
    "X_test.head()"
   ]
  },
  {
   "cell_type": "code",
   "execution_count": 87,
   "metadata": {},
   "outputs": [
    {
     "data": {
      "text/html": [
       "<style>#sk-container-id-2 {color: black;}#sk-container-id-2 pre{padding: 0;}#sk-container-id-2 div.sk-toggleable {background-color: white;}#sk-container-id-2 label.sk-toggleable__label {cursor: pointer;display: block;width: 100%;margin-bottom: 0;padding: 0.3em;box-sizing: border-box;text-align: center;}#sk-container-id-2 label.sk-toggleable__label-arrow:before {content: \"▸\";float: left;margin-right: 0.25em;color: #696969;}#sk-container-id-2 label.sk-toggleable__label-arrow:hover:before {color: black;}#sk-container-id-2 div.sk-estimator:hover label.sk-toggleable__label-arrow:before {color: black;}#sk-container-id-2 div.sk-toggleable__content {max-height: 0;max-width: 0;overflow: hidden;text-align: left;background-color: #f0f8ff;}#sk-container-id-2 div.sk-toggleable__content pre {margin: 0.2em;color: black;border-radius: 0.25em;background-color: #f0f8ff;}#sk-container-id-2 input.sk-toggleable__control:checked~div.sk-toggleable__content {max-height: 200px;max-width: 100%;overflow: auto;}#sk-container-id-2 input.sk-toggleable__control:checked~label.sk-toggleable__label-arrow:before {content: \"▾\";}#sk-container-id-2 div.sk-estimator input.sk-toggleable__control:checked~label.sk-toggleable__label {background-color: #d4ebff;}#sk-container-id-2 div.sk-label input.sk-toggleable__control:checked~label.sk-toggleable__label {background-color: #d4ebff;}#sk-container-id-2 input.sk-hidden--visually {border: 0;clip: rect(1px 1px 1px 1px);clip: rect(1px, 1px, 1px, 1px);height: 1px;margin: -1px;overflow: hidden;padding: 0;position: absolute;width: 1px;}#sk-container-id-2 div.sk-estimator {font-family: monospace;background-color: #f0f8ff;border: 1px dotted black;border-radius: 0.25em;box-sizing: border-box;margin-bottom: 0.5em;}#sk-container-id-2 div.sk-estimator:hover {background-color: #d4ebff;}#sk-container-id-2 div.sk-parallel-item::after {content: \"\";width: 100%;border-bottom: 1px solid gray;flex-grow: 1;}#sk-container-id-2 div.sk-label:hover label.sk-toggleable__label {background-color: #d4ebff;}#sk-container-id-2 div.sk-serial::before {content: \"\";position: absolute;border-left: 1px solid gray;box-sizing: border-box;top: 0;bottom: 0;left: 50%;z-index: 0;}#sk-container-id-2 div.sk-serial {display: flex;flex-direction: column;align-items: center;background-color: white;padding-right: 0.2em;padding-left: 0.2em;position: relative;}#sk-container-id-2 div.sk-item {position: relative;z-index: 1;}#sk-container-id-2 div.sk-parallel {display: flex;align-items: stretch;justify-content: center;background-color: white;position: relative;}#sk-container-id-2 div.sk-item::before, #sk-container-id-2 div.sk-parallel-item::before {content: \"\";position: absolute;border-left: 1px solid gray;box-sizing: border-box;top: 0;bottom: 0;left: 50%;z-index: -1;}#sk-container-id-2 div.sk-parallel-item {display: flex;flex-direction: column;z-index: 1;position: relative;background-color: white;}#sk-container-id-2 div.sk-parallel-item:first-child::after {align-self: flex-end;width: 50%;}#sk-container-id-2 div.sk-parallel-item:last-child::after {align-self: flex-start;width: 50%;}#sk-container-id-2 div.sk-parallel-item:only-child::after {width: 0;}#sk-container-id-2 div.sk-dashed-wrapped {border: 1px dashed gray;margin: 0 0.4em 0.5em 0.4em;box-sizing: border-box;padding-bottom: 0.4em;background-color: white;}#sk-container-id-2 div.sk-label label {font-family: monospace;font-weight: bold;display: inline-block;line-height: 1.2em;}#sk-container-id-2 div.sk-label-container {text-align: center;}#sk-container-id-2 div.sk-container {/* jupyter's `normalize.less` sets `[hidden] { display: none; }` but bootstrap.min.css set `[hidden] { display: none !important; }` so we also need the `!important` here to be able to override the default hidden behavior on the sphinx rendered scikit-learn.org. See: https://github.com/scikit-learn/scikit-learn/issues/21755 */display: inline-block !important;position: relative;}#sk-container-id-2 div.sk-text-repr-fallback {display: none;}</style><div id=\"sk-container-id-2\" class=\"sk-top-container\"><div class=\"sk-text-repr-fallback\"><pre>LinearRegression()</pre><b>In a Jupyter environment, please rerun this cell to show the HTML representation or trust the notebook. <br />On GitHub, the HTML representation is unable to render, please try loading this page with nbviewer.org.</b></div><div class=\"sk-container\" hidden><div class=\"sk-item\"><div class=\"sk-estimator sk-toggleable\"><input class=\"sk-toggleable__control sk-hidden--visually\" id=\"sk-estimator-id-2\" type=\"checkbox\" checked><label for=\"sk-estimator-id-2\" class=\"sk-toggleable__label sk-toggleable__label-arrow\">LinearRegression</label><div class=\"sk-toggleable__content\"><pre>LinearRegression()</pre></div></div></div></div></div>"
      ],
      "text/plain": [
       "LinearRegression()"
      ]
     },
     "execution_count": 87,
     "metadata": {},
     "output_type": "execute_result"
    }
   ],
   "source": [
    "from sklearn.linear_model import LinearRegression\n",
    "\n",
    "model = LinearRegression()\n",
    "model.fit(X_train, y_train)"
   ]
  },
  {
   "cell_type": "code",
   "execution_count": 88,
   "metadata": {},
   "outputs": [
    {
     "name": "stdout",
     "output_type": "stream",
     "text": [
      "Intercept (a): 13056.014647071093\n",
      "Coefficients (b): [ 3551.61103255  1948.5271806  -9408.72861012]\n"
     ]
    }
   ],
   "source": [
    "print(f\"Intercept (a): {model.intercept_}\")\n",
    "print(f\"Coefficients (b): {model.coef_}\")"
   ]
  },
  {
   "cell_type": "code",
   "execution_count": 89,
   "metadata": {},
   "outputs": [
    {
     "data": {
      "text/plain": [
       "array([ 1.17026152e+04,  3.45691850e+03,  1.00104133e+04,  3.59648366e+04,\n",
       "        1.56781724e+04,  2.80604656e+04,  2.39198167e+03,  1.42859904e+04,\n",
       "        5.98196295e+03,  3.04344009e+04,  9.46908617e+03,  6.65237004e+03,\n",
       "        1.11657560e+04,  7.02745081e+03,  1.73759681e+04,  1.15392261e+04,\n",
       "        1.50598789e+04,  5.77629838e+03,  3.85279960e+03,  3.08224364e+04,\n",
       "        4.33394220e+02,  4.51156791e+03,  1.33342168e+04,  3.25075140e+03,\n",
       "        1.64126427e+04,  1.48627525e+04,  1.58818286e+03,  3.85718872e+04,\n",
       "        5.99254512e+03,  1.10471198e+04,  4.15448166e+03,  6.39563079e+03,\n",
       "        7.25138694e+03,  1.25545782e+04,  1.10391533e+04,  2.81915718e+04,\n",
       "        2.63872634e+04,  8.28081954e+03,  1.24727798e+04,  8.36906067e+03,\n",
       "        3.90203667e+04,  8.10546315e+03,  1.20892993e+04,  5.99820827e+03,\n",
       "        2.72441454e+04,  1.21226388e+04,  7.52646700e+03,  3.28920738e+04,\n",
       "        4.79769725e+03,  3.53814932e+04,  3.36659107e+04,  1.19593367e+04,\n",
       "        1.11957179e+04,  5.78610098e+03,  7.87269404e+03,  3.75686588e+04,\n",
       "        9.18183097e+03,  4.03951775e+04,  1.73221924e+04,  4.68285412e+03,\n",
       "        1.17553344e+04,  3.53618814e+03,  4.28066882e+03,  3.64626061e+04,\n",
       "        5.68028089e+03,  8.83013084e+03,  2.67553069e+03,  3.01814548e+04,\n",
       "        4.64847575e+03,  8.34216392e+03,  1.24448441e+04, -1.96381844e+02,\n",
       "        7.45867990e+03,  6.05186326e+03,  8.81655280e+03,  9.07663421e+03,\n",
       "        1.15324194e+04,  3.32780138e+04,  1.02316999e+04,  3.24886368e+03,\n",
       "        3.31586156e+04,  2.83526399e+04,  1.36789717e+04,  3.79290872e+04,\n",
       "        2.77090714e+03, -3.53137973e+01,  3.71496564e+04,  7.97927599e+03,\n",
       "        1.00621629e+04,  4.70372370e+03,  1.16878936e+04,  1.24579373e+04,\n",
       "        2.98673028e+04,  6.71118565e+03,  7.39312682e+03,  3.12602644e+04,\n",
       "        3.21826075e+03,  5.32362791e+03,  1.34987141e+03,  9.35406404e+01,\n",
       "        3.38317350e+03,  1.02874681e+04,  1.32082374e+04,  6.28421680e+03,\n",
       "        5.24182950e+03,  1.08706552e+04,  8.23979067e+03,  3.10717455e+04,\n",
       "        1.50417458e+04,  1.89637690e+03,  8.54826176e+03,  2.45816906e+04,\n",
       "        1.15386543e+04,  1.15220627e+04,  1.42439742e+04,  1.58941421e+04,\n",
       "        9.32769259e+03,  2.73890374e+04,  3.89189631e+04,  5.30303536e+03,\n",
       "        1.31281189e+04,  1.43726901e+04,  3.80598470e+04,  1.07911085e+04,\n",
       "        4.28312832e+03,  2.86363967e+04,  4.24166619e+03,  1.25734908e+04,\n",
       "        1.14338393e+04,  9.21501421e+03,  5.80193075e+03,  9.73043196e+03,\n",
       "        9.38455122e+03,  1.05943108e+04,  3.95398369e+04,  2.63972738e+04,\n",
       "        1.22563945e+04,  6.68148309e+03,  6.88758093e+03,  1.35949392e+04,\n",
       "        1.66445807e+04,  8.26052174e+03,  1.47904797e+04,  2.52259628e+04,\n",
       "        4.56058092e+03,  8.46485267e+03,  2.56671507e+04,  4.03806121e+04,\n",
       "        2.83057158e+03,  3.65825583e+04,  5.16410128e+03,  1.24797943e+04,\n",
       "        5.39449785e+03,  3.61429811e+04,  9.90691422e+03,  1.36158781e+04,\n",
       "        6.40662852e+03,  1.37396235e+03,  3.07526923e+04,  1.08046866e+04,\n",
       "        1.22825809e+04,  1.02349390e+04,  2.94753534e+04,  6.29857441e+03,\n",
       "        3.53527780e+04,  3.58949363e+04,  1.07023649e+04,  1.78307519e+03,\n",
       "        3.18052977e+04,  1.05775114e+04,  3.65625375e+04,  7.74446294e+03,\n",
       "        1.43168011e+04,  4.41506560e+03,  1.39403174e+04,  1.06598639e+04,\n",
       "        1.03952967e+04,  3.24135809e+04,  2.83193004e+04,  1.53887510e+03,\n",
       "        9.83169705e+03,  8.69064269e+03,  7.29165395e+03,  1.30075949e+04,\n",
       "        1.12494422e+04,  3.26699672e+03,  2.86778588e+04,  1.06169812e+03,\n",
       "        3.71721366e+04,  2.62229047e+04,  1.28364472e+04,  1.16848107e+04,\n",
       "        2.93775867e+04,  3.57624737e+03,  1.09413866e+04,  1.27365158e+04,\n",
       "        2.61537147e+04,  2.83167893e+04,  3.52974542e+03,  8.15560202e+03,\n",
       "        1.06354959e+04,  3.29763317e+04,  1.11485058e+03,  7.33808665e+03,\n",
       "        3.29415201e+04,  6.36776441e+03,  1.27157140e+03,  1.64938872e+03,\n",
       "        7.43850291e+03,  3.25887406e+03,  1.06444674e+04,  4.65225119e+03,\n",
       "        5.88449101e+03,  8.24223247e+03,  1.35148209e+03,  3.26510901e+03,\n",
       "        5.37671110e+03,  3.69931610e+04,  6.29199317e+03,  1.80297659e+04,\n",
       "        1.10270990e+04,  5.19645341e+03,  1.19040018e+04,  2.50192350e+03,\n",
       "        1.79139354e+04,  3.20438862e+04,  4.75245968e+03,  9.79780350e+03,\n",
       "        8.71627505e+03,  6.98808417e+03,  3.24682748e+04,  1.30893933e+04,\n",
       "        5.53350118e+03,  8.82748127e+03,  3.37595380e+04,  1.71102751e+04,\n",
       "        5.12130550e+03,  1.14520416e+04,  1.20570164e+04,  4.65791434e+03,\n",
       "        1.36421338e+04,  6.29233947e+03,  2.70112201e+04,  7.01868710e+03,\n",
       "        5.67215822e+03,  6.17616269e+03,  1.68324070e+04,  7.25110990e+03,\n",
       "        9.53995611e+03,  1.28158547e+04,  1.16691887e+04,  3.25882962e+04,\n",
       "        2.83109007e+04,  9.74359445e+03,  9.79402807e+03,  7.40027985e+03,\n",
       "        3.21400422e+04,  3.88758903e+04,  2.40968065e+04,  1.45233838e+04,\n",
       "        2.35703152e+03,  1.55313927e+04,  6.46783438e+03,  3.21237211e+03,\n",
       "        2.43819662e+04,  3.29763317e+04,  1.00209778e+04,  1.55409183e+04])"
      ]
     },
     "execution_count": 89,
     "metadata": {},
     "output_type": "execute_result"
    }
   ],
   "source": [
    "y_pred = model.predict(X_test)\n",
    "y_pred"
   ]
  },
  {
   "cell_type": "code",
   "execution_count": 90,
   "metadata": {},
   "outputs": [
    {
     "name": "stdout",
     "output_type": "stream",
     "text": [
      "Error cuadrático medio: 40260183.12950197\n",
      "Coeficiente de determinación: 0.7626853461405056\n"
     ]
    }
   ],
   "source": [
    "from sklearn.metrics import mean_squared_error, r2_score\n",
    "\n",
    "print(f\"Error cuadrático medio: {mean_squared_error(y_test, y_pred)}\")\n",
    "print(f\"Coeficiente de determinación: {r2_score(y_test, y_pred)}\")"
   ]
  },
  {
   "cell_type": "code",
   "execution_count": null,
   "metadata": {},
   "outputs": [],
   "source": []
  }
 ],
 "metadata": {
  "kernelspec": {
   "display_name": "Python 3",
   "language": "python",
   "name": "python3"
  },
  "language_info": {
   "codemirror_mode": {
    "name": "ipython",
    "version": 3
   },
   "file_extension": ".py",
   "mimetype": "text/x-python",
   "name": "python",
   "nbconvert_exporter": "python",
   "pygments_lexer": "ipython3",
   "version": "3.11.4"
  }
 },
 "nbformat": 4,
 "nbformat_minor": 2
}
